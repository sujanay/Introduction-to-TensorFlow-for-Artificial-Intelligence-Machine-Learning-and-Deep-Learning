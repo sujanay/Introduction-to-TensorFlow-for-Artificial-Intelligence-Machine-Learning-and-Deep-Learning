{
  "nbformat": 4,
  "nbformat_minor": 0,
  "metadata": {
    "colab": {
      "name": "Exercise2-Question.ipynb",
      "version": "0.3.2",
      "provenance": [],
      "collapsed_sections": [],
      "toc_visible": true,
      "include_colab_link": true
    },
    "kernelspec": {
      "name": "python3",
      "display_name": "Python 3"
    },
    "accelerator": "GPU"
  },
  "cells": [
    {
      "cell_type": "markdown",
      "metadata": {
        "id": "view-in-github",
        "colab_type": "text"
      },
      "source": [
        "<a href=\"https://colab.research.google.com/github/sujanay/Introduction-to-TensorFlow-for-Artificial-Intelligence-Machine-Learning-and-Deep-Learning/blob/master/Exercise2_Question.ipynb\" target=\"_parent\"><img src=\"https://colab.research.google.com/assets/colab-badge.svg\" alt=\"Open In Colab\"/></a>"
      ]
    },
    {
      "cell_type": "markdown",
      "metadata": {
        "id": "tOoyQ70H00_s",
        "colab_type": "text"
      },
      "source": [
        "## Exercise 2\n",
        "In the course you learned how to do classification using Fashion MNIST, a data set containing items of clothing. There's another, similar dataset called MNIST which has items of handwriting -- the digits 0 through 9.\n",
        "\n",
        "Write an MNIST classifier that trains to 99% accuracy or above, and does it without a fixed number of epochs -- i.e. you should stop training once you reach that level of accuracy.\n",
        "\n",
        "Some notes:\n",
        "1. It should succeed in less than 10 epochs, so it is okay to change epochs to 10, but nothing larger\n",
        "2. When it reaches 99% or greater it should print out the string \"Reached 99% accuracy so cancelling training!\"\n",
        "3. If you add any additional variables, make sure you use the same names as the ones used in the class\n",
        "\n",
        "I've started the code for you below -- how would you finish it? "
      ]
    },
    {
      "cell_type": "code",
      "metadata": {
        "id": "9rvXQGAA0ssC",
        "colab_type": "code",
        "colab": {
          "base_uri": "https://localhost:8080/",
          "height": 527
        },
        "outputId": "f08d97f5-31ab-46f2-d3d1-c78407f981ad"
      },
      "source": [
        "# YOUR CODE SHOULD START HERE\n",
        "# YOUR CODE SHOULD END HERE\n",
        "import numpy as np\n",
        "import tensorflow as tf\n",
        "import matplotlib.pyplot as plt\n",
        "\n",
        "class myCallback(tf.keras.callbacks.Callback):\n",
        "  def on_epoch_end(self, epoch, logs={}):\n",
        "    if(logs.get('loss')<0.01):\n",
        "      print(\"\\nReached 99% accuracy so cancelling training!\")\n",
        "      self.model.stop_training = True\n",
        "\n",
        "callbacks = myCallback()\n",
        "\n",
        "mnist = tf.keras.datasets.mnist\n",
        "\n",
        "(x_train, y_train),(x_test, y_test) = mnist.load_data()\n",
        "\n",
        "x_train, x_test = x_train / 255.0, x_test / 255.0\n",
        "\n",
        "model = tf.keras.models.Sequential([tf.keras.layers.Flatten(),\n",
        "                                    tf.keras.layers.Dense(128, activation=tf.nn.relu),\n",
        "                                    tf.keras.layers.Dense(10, activation=tf.nn.softmax)])\n",
        "\n",
        "model.compile(optimizer='adam',\n",
        "              loss='sparse_categorical_crossentropy',\n",
        "              metrics=['accuracy'])\n",
        "\n",
        "history = model.fit(x_train, y_train, epochs=30, callbacks=[callbacks])\n",
        "\n",
        "model.evaluate(x_test, y_test)\n",
        "\n",
        "# YOUR CODE SHOULD START HERE\n",
        "# YOUR CODE SHOULD END HERE"
      ],
      "execution_count": 5,
      "outputs": [
        {
          "output_type": "stream",
          "text": [
            "Epoch 1/30\n",
            "60000/60000 [==============================] - 5s 88us/sample - loss: 0.2580 - acc: 0.9272\n",
            "Epoch 2/30\n",
            "60000/60000 [==============================] - 5s 88us/sample - loss: 0.1150 - acc: 0.9658\n",
            "Epoch 3/30\n",
            "60000/60000 [==============================] - 5s 88us/sample - loss: 0.0787 - acc: 0.9762\n",
            "Epoch 4/30\n",
            "60000/60000 [==============================] - 6s 101us/sample - loss: 0.0582 - acc: 0.9827\n",
            "Epoch 5/30\n",
            "60000/60000 [==============================] - 6s 101us/sample - loss: 0.0459 - acc: 0.9860\n",
            "Epoch 6/30\n",
            "60000/60000 [==============================] - 5s 90us/sample - loss: 0.0357 - acc: 0.9892\n",
            "Epoch 7/30\n",
            "60000/60000 [==============================] - 5s 87us/sample - loss: 0.0283 - acc: 0.9913\n",
            "Epoch 8/30\n",
            "60000/60000 [==============================] - 5s 87us/sample - loss: 0.0225 - acc: 0.9931\n",
            "Epoch 9/30\n",
            "60000/60000 [==============================] - 5s 87us/sample - loss: 0.0195 - acc: 0.9936\n",
            "Epoch 10/30\n",
            "60000/60000 [==============================] - 5s 88us/sample - loss: 0.0155 - acc: 0.9951\n",
            "Epoch 11/30\n",
            "60000/60000 [==============================] - 5s 86us/sample - loss: 0.0128 - acc: 0.9961\n",
            "Epoch 12/30\n",
            "60000/60000 [==============================] - 5s 86us/sample - loss: 0.0123 - acc: 0.9962\n",
            "Epoch 13/30\n",
            "59648/60000 [============================>.] - ETA: 0s - loss: 0.0097 - acc: 0.9969\n",
            "Reached 99% accuracy so cancelling training!\n",
            "60000/60000 [==============================] - 5s 86us/sample - loss: 0.0097 - acc: 0.9969\n",
            "10000/10000 [==============================] - 1s 51us/sample - loss: 0.0912 - acc: 0.9787\n"
          ],
          "name": "stdout"
        },
        {
          "output_type": "execute_result",
          "data": {
            "text/plain": [
              "[0.09115638297144178, 0.9787]"
            ]
          },
          "metadata": {
            "tags": []
          },
          "execution_count": 5
        }
      ]
    },
    {
      "cell_type": "code",
      "metadata": {
        "id": "Oas9gyYSsJKb",
        "colab_type": "code",
        "colab": {
          "base_uri": "https://localhost:8080/",
          "height": 85
        },
        "outputId": "b8588a86-581f-4645-937d-8dc01b576921"
      },
      "source": [
        "classifications = model.predict(x_test)\n",
        "\n",
        "print(classifications[0])\n",
        "print(y_test[0])\n",
        "print(np.argmax(classifications[0]))"
      ],
      "execution_count": 4,
      "outputs": [
        {
          "output_type": "stream",
          "text": [
            "[8.2053303e-10 2.0030331e-09 1.7729602e-07 7.6004791e-05 1.2602087e-14\n",
            " 8.9939093e-08 2.0730212e-15 9.9992311e-01 2.5102494e-07 3.5095141e-07]\n",
            "7\n",
            "7\n"
          ],
          "name": "stdout"
        }
      ]
    },
    {
      "cell_type": "code",
      "metadata": {
        "id": "aAf0Yqw3t_JB",
        "colab_type": "code",
        "colab": {}
      },
      "source": [
        ""
      ],
      "execution_count": 0,
      "outputs": []
    }
  ]
}